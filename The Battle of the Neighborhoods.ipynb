{
    "cells": [
        {
            "cell_type": "markdown",
            "metadata": {},
            "source": "# Introduction/Business Problem\n## Introduction\nWashington DC is a globally known city. It exists as the capital of The United States of America. The United States Census in 2007 estimates the population of the city to be 705,749 persons. Of the population, 11.3% are of Hispanic or Latinx origin.\n\nGiven the diversity of the city, it is expected that there are a variety of ethnic cuisine restaurant options. A personal favorite cuisine of mine and many others is Mexican cuisine. Mexican cuisine is very diverse and broken up by geographical regions. Offerings can include tacos, burritos, tortas, enchiladas, and much more.\n\nAs a global city, the culinary options are held to a high standard. Specifically with respect to Mexican cuisine, it would be interesting to determine neighborhoods that have the best selection when it comes to Mexican restaurants. Further, it would be interesting to determine the areas lacking in Mexican restaurant density.\n\n## Audience\nThis analysis looks at two ends of the spectrum. In looking at the Washington DC neighborhoods with greatest Mexican restaurant density, valuable insight can be provided to Mexican food fans looking to either live in or visit Washington DC. With this information, they could know where to choose to live or stay to have the best access to Mexican food.\n\nOn the flipside, knowing which DC neighborhoods are lacking in Mexican restaurants can be greatly valuable insight for those looking to open a Mexican restaurant of their own. With a lower density of Mexican restaurants, there will be a decreased level of competition with respect to the area."
        },
        {
            "cell_type": "markdown",
            "metadata": {},
            "source": "# Data\nThere will be two different sets of data utilized in this analysis.\n\nThe first data accessed will be Foursquare Location data. The Fouresquare API enables the user to access venue information in any location they so choose. Calling the data from the API can be turned into a dataframe and analyzed with the Pandas package. In this specific project, Mexican restaurants in Washington DC will by analyzed. For example, it will provide the name and location of any given DC Mexican restaurant.\n\nThe second dataset accessed will come from opendata.dc.gov and is titled \"Neighborhood Labels\". This dataset provides a list of neighborhoods in DC and their approximate latitude and longitude coordinates. For example, it will provide the location of the neighborhood \"Dupont Circle\"."
        }
    ],
    "metadata": {
        "kernelspec": {
            "display_name": "Python 3.7",
            "language": "python",
            "name": "python3"
        },
        "language_info": {
            "codemirror_mode": {
                "name": "ipython",
                "version": 3
            },
            "file_extension": ".py",
            "mimetype": "text/x-python",
            "name": "python",
            "nbconvert_exporter": "python",
            "pygments_lexer": "ipython3",
            "version": "3.7.9"
        }
    },
    "nbformat": 4,
    "nbformat_minor": 1
}